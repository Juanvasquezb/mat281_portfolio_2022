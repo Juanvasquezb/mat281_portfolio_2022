{
  "cells": [
    {
      "cell_type": "markdown",
      "metadata": {
        "id": "05tYeuwjoIGt"
      },
      "source": [
        "<a href=\"https://colab.research.google.com/github/fralfaro/MAT281_2022/blob/main/labs/lab_05/lab_05.ipynb\n",
        "\" target=\"_parent\"><img src=\"https://colab.research.google.com/assets/colab-badge.svg\" alt=\"Open In Colab\"/></a>\n",
        "\n",
        "\n",
        "# MAT281 - Laboratorio N°05\n",
        "\n"
      ]
    },
    {
      "cell_type": "markdown",
      "metadata": {
        "id": "9RIusxbqoIGv"
      },
      "source": [
        "## Problema 01\n",
        "<img src=\"https://storage.googleapis.com/kaggle-datasets-images/19/19/default-backgrounds/dataset-card.jpg\" width=\"360\" height=\"360\" align=\"center\"/>"
      ]
    },
    {
      "cell_type": "markdown",
      "metadata": {
        "id": "llAVU5QLoIGv"
      },
      "source": [
        "El **Iris dataset** es un conjunto de datos que contine una  muestras de tres especies de Iris (Iris setosa, Iris virginica e Iris versicolor). Se midió cuatro rasgos de cada muestra: el largo y ancho del sépalo y pétalo, en centímetros.\n",
        "\n",
        "Lo primero es cargar el conjunto de datos y ver las primeras filas que lo componen:"
      ]
    },
    {
      "cell_type": "code",
      "execution_count": 19,
      "metadata": {
        "id": "3FKZUVOHoIGw"
      },
      "outputs": [],
      "source": [
        "# librerias\n",
        " \n",
        "import os\n",
        "import numpy as np\n",
        "import pandas as pd\n",
        "\n",
        "import matplotlib.pyplot as plt\n",
        "import seaborn as sns \n",
        "pd.set_option('display.max_columns', 500)  # Ver más columnas de los dataframes\n",
        "\n",
        "\n",
        "# Ver gráficos de matplotlib en jupyter notebook/lab\n",
        "%matplotlib inline"
      ]
    },
    {
      "cell_type": "code",
      "execution_count": 20,
      "metadata": {
        "colab": {
          "base_uri": "https://localhost:8080/",
          "height": 206
        },
        "id": "cvlJ2WiNoIGx",
        "outputId": "ccbbb54c-1ec5-4fae-b10e-1fc7a9812435"
      },
      "outputs": [
        {
          "output_type": "execute_result",
          "data": {
            "text/plain": [
              "   sepalLength  sepalWidth  petalLength  petalWidth     species\n",
              "0          4.4         3.2          1.3         3.0      setosa\n",
              "1          7.2         3.6          6.1         2.5   virginica\n",
              "2          6.3         3.3          6.0         2.5   VIRGINICA\n",
              "3          6.7         3.3          5.7         2.5   virginica\n",
              "4          6.3         3.4          5.6         2.4   virginica"
            ],
            "text/html": [
              "\n",
              "  <div id=\"df-929a638f-6fad-45d6-9633-c9f5042475c9\">\n",
              "    <div class=\"colab-df-container\">\n",
              "      <div>\n",
              "<style scoped>\n",
              "    .dataframe tbody tr th:only-of-type {\n",
              "        vertical-align: middle;\n",
              "    }\n",
              "\n",
              "    .dataframe tbody tr th {\n",
              "        vertical-align: top;\n",
              "    }\n",
              "\n",
              "    .dataframe thead th {\n",
              "        text-align: right;\n",
              "    }\n",
              "</style>\n",
              "<table border=\"1\" class=\"dataframe\">\n",
              "  <thead>\n",
              "    <tr style=\"text-align: right;\">\n",
              "      <th></th>\n",
              "      <th>sepalLength</th>\n",
              "      <th>sepalWidth</th>\n",
              "      <th>petalLength</th>\n",
              "      <th>petalWidth</th>\n",
              "      <th>species</th>\n",
              "    </tr>\n",
              "  </thead>\n",
              "  <tbody>\n",
              "    <tr>\n",
              "      <th>0</th>\n",
              "      <td>4.4</td>\n",
              "      <td>3.2</td>\n",
              "      <td>1.3</td>\n",
              "      <td>3.0</td>\n",
              "      <td>setosa</td>\n",
              "    </tr>\n",
              "    <tr>\n",
              "      <th>1</th>\n",
              "      <td>7.2</td>\n",
              "      <td>3.6</td>\n",
              "      <td>6.1</td>\n",
              "      <td>2.5</td>\n",
              "      <td>virginica</td>\n",
              "    </tr>\n",
              "    <tr>\n",
              "      <th>2</th>\n",
              "      <td>6.3</td>\n",
              "      <td>3.3</td>\n",
              "      <td>6.0</td>\n",
              "      <td>2.5</td>\n",
              "      <td>VIRGINICA</td>\n",
              "    </tr>\n",
              "    <tr>\n",
              "      <th>3</th>\n",
              "      <td>6.7</td>\n",
              "      <td>3.3</td>\n",
              "      <td>5.7</td>\n",
              "      <td>2.5</td>\n",
              "      <td>virginica</td>\n",
              "    </tr>\n",
              "    <tr>\n",
              "      <th>4</th>\n",
              "      <td>6.3</td>\n",
              "      <td>3.4</td>\n",
              "      <td>5.6</td>\n",
              "      <td>2.4</td>\n",
              "      <td>virginica</td>\n",
              "    </tr>\n",
              "  </tbody>\n",
              "</table>\n",
              "</div>\n",
              "      <button class=\"colab-df-convert\" onclick=\"convertToInteractive('df-929a638f-6fad-45d6-9633-c9f5042475c9')\"\n",
              "              title=\"Convert this dataframe to an interactive table.\"\n",
              "              style=\"display:none;\">\n",
              "        \n",
              "  <svg xmlns=\"http://www.w3.org/2000/svg\" height=\"24px\"viewBox=\"0 0 24 24\"\n",
              "       width=\"24px\">\n",
              "    <path d=\"M0 0h24v24H0V0z\" fill=\"none\"/>\n",
              "    <path d=\"M18.56 5.44l.94 2.06.94-2.06 2.06-.94-2.06-.94-.94-2.06-.94 2.06-2.06.94zm-11 1L8.5 8.5l.94-2.06 2.06-.94-2.06-.94L8.5 2.5l-.94 2.06-2.06.94zm10 10l.94 2.06.94-2.06 2.06-.94-2.06-.94-.94-2.06-.94 2.06-2.06.94z\"/><path d=\"M17.41 7.96l-1.37-1.37c-.4-.4-.92-.59-1.43-.59-.52 0-1.04.2-1.43.59L10.3 9.45l-7.72 7.72c-.78.78-.78 2.05 0 2.83L4 21.41c.39.39.9.59 1.41.59.51 0 1.02-.2 1.41-.59l7.78-7.78 2.81-2.81c.8-.78.8-2.07 0-2.86zM5.41 20L4 18.59l7.72-7.72 1.47 1.35L5.41 20z\"/>\n",
              "  </svg>\n",
              "      </button>\n",
              "      \n",
              "  <style>\n",
              "    .colab-df-container {\n",
              "      display:flex;\n",
              "      flex-wrap:wrap;\n",
              "      gap: 12px;\n",
              "    }\n",
              "\n",
              "    .colab-df-convert {\n",
              "      background-color: #E8F0FE;\n",
              "      border: none;\n",
              "      border-radius: 50%;\n",
              "      cursor: pointer;\n",
              "      display: none;\n",
              "      fill: #1967D2;\n",
              "      height: 32px;\n",
              "      padding: 0 0 0 0;\n",
              "      width: 32px;\n",
              "    }\n",
              "\n",
              "    .colab-df-convert:hover {\n",
              "      background-color: #E2EBFA;\n",
              "      box-shadow: 0px 1px 2px rgba(60, 64, 67, 0.3), 0px 1px 3px 1px rgba(60, 64, 67, 0.15);\n",
              "      fill: #174EA6;\n",
              "    }\n",
              "\n",
              "    [theme=dark] .colab-df-convert {\n",
              "      background-color: #3B4455;\n",
              "      fill: #D2E3FC;\n",
              "    }\n",
              "\n",
              "    [theme=dark] .colab-df-convert:hover {\n",
              "      background-color: #434B5C;\n",
              "      box-shadow: 0px 1px 3px 1px rgba(0, 0, 0, 0.15);\n",
              "      filter: drop-shadow(0px 1px 2px rgba(0, 0, 0, 0.3));\n",
              "      fill: #FFFFFF;\n",
              "    }\n",
              "  </style>\n",
              "\n",
              "      <script>\n",
              "        const buttonEl =\n",
              "          document.querySelector('#df-929a638f-6fad-45d6-9633-c9f5042475c9 button.colab-df-convert');\n",
              "        buttonEl.style.display =\n",
              "          google.colab.kernel.accessAllowed ? 'block' : 'none';\n",
              "\n",
              "        async function convertToInteractive(key) {\n",
              "          const element = document.querySelector('#df-929a638f-6fad-45d6-9633-c9f5042475c9');\n",
              "          const dataTable =\n",
              "            await google.colab.kernel.invokeFunction('convertToInteractive',\n",
              "                                                     [key], {});\n",
              "          if (!dataTable) return;\n",
              "\n",
              "          const docLinkHtml = 'Like what you see? Visit the ' +\n",
              "            '<a target=\"_blank\" href=https://colab.research.google.com/notebooks/data_table.ipynb>data table notebook</a>'\n",
              "            + ' to learn more about interactive tables.';\n",
              "          element.innerHTML = '';\n",
              "          dataTable['output_type'] = 'display_data';\n",
              "          await google.colab.output.renderOutput(dataTable, element);\n",
              "          const docLink = document.createElement('div');\n",
              "          docLink.innerHTML = docLinkHtml;\n",
              "          element.appendChild(docLink);\n",
              "        }\n",
              "      </script>\n",
              "    </div>\n",
              "  </div>\n",
              "  "
            ]
          },
          "metadata": {},
          "execution_count": 20
        }
      ],
      "source": [
        "# cargar datos\n",
        "df = pd.read_csv(\"https://raw.githubusercontent.com/fralfaro/MAT281_2022/main/labs/lab_05/data/iris_contaminados.csv\")\n",
        "df.columns = ['sepalLength',\n",
        "                  'sepalWidth',\n",
        "                  'petalLength',\n",
        "                  'petalWidth',\n",
        "                  'species']\n",
        "\n",
        "df.head() "
      ]
    },
    {
      "cell_type": "markdown",
      "metadata": {
        "id": "Pcgzo7fhoIGz"
      },
      "source": [
        "### Bases del experimento\n",
        "\n",
        "Lo primero es identificar las variables que influyen en el estudio y la naturaleza de esta.\n",
        "\n",
        "* **species**: \n",
        "    * Descripción: Nombre de la especie de Iris. \n",
        "    * Tipo de dato: *string*\n",
        "    * Limitantes: solo existen tres tipos (setosa, virginia y versicolor).\n",
        "* **sepalLength**: \n",
        "    * Descripción: largo del sépalo. \n",
        "    * Tipo de dato: *float*. \n",
        "    * Limitantes: los valores se encuentran entre 4.0 y 7.0 cm.\n",
        "* **sepalWidth**: \n",
        "    * Descripción: ancho del sépalo. \n",
        "    * Tipo de dato: *float*. \n",
        "    * Limitantes: los valores se encuentran entre 2.0 y 4.5 cm.\n",
        "* **petalLength**: \n",
        "    * Descripción: largo del pétalo. \n",
        "    * Tipo de dato: *float*. \n",
        "    * Limitantes: los valores se encuentran entre 1.0 y 7.0 cm.\n",
        "* **petalWidth**: \n",
        "    * Descripción: ancho del pépalo. \n",
        "    * Tipo de dato: *float*. \n",
        "    * Limitantes: los valores se encuentran entre 0.1 y 2.5 cm."
      ]
    },
    {
      "cell_type": "markdown",
      "metadata": {
        "id": "YpWa4qnooIGz"
      },
      "source": [
        "Su objetivo es realizar un correcto **E.D.A.**, para esto debe seguir las siguientes intrucciones:"
      ]
    },
    {
      "cell_type": "markdown",
      "metadata": {
        "id": "rpRGnxbGoIG0"
      },
      "source": [
        "1. Realizar un conteo de elementos de la columna **species** y corregir según su criterio. Reemplace por \"default\" los valores nan.."
      ]
    },
    {
      "cell_type": "code",
      "execution_count": 21,
      "metadata": {
        "colab": {
          "base_uri": "https://localhost:8080/",
          "height": 122
        },
        "id": "lYtSyarvoIG0",
        "outputId": "5ed9b08b-4ac9-45a4-b73c-8c2772ec50b6"
      },
      "outputs": [
        {
          "output_type": "stream",
          "name": "stdout",
          "text": [
            "setosa        50\n",
            "virginica     50\n",
            "versicolor    49\n",
            "default        1\n",
            "Name: species, dtype: int64\n"
          ]
        },
        {
          "output_type": "execute_result",
          "data": {
            "text/plain": [
              "'Son 3 tipos de elementos'"
            ],
            "application/vnd.google.colaboratory.intrinsic+json": {
              "type": "string"
            }
          },
          "metadata": {},
          "execution_count": 21
        }
      ],
      "source": [
        "df[\"species\"] = df[\"species\"].str.lower().str.strip() # cambia todo a minúscula y quita espacios\n",
        "df[\"species\"] = df[\"species\"].fillna(\"default\") # cambia los NaN por \"default\"\n",
        "especies = df[\"species\"].value_counts()\n",
        "# especies.index[0] entrega el nombre de la flor\n",
        "print(especies)\n",
        "\"Son 3 tipos de elementos\"\n"
      ]
    },
    {
      "cell_type": "markdown",
      "metadata": {
        "id": "YKR-IFIMoIG1"
      },
      "source": [
        "2. Realizar un gráfico de box-plot sobre el largo y ancho de los petalos y sépalos. Reemplace por **0** los valores nan."
      ]
    },
    {
      "cell_type": "code",
      "execution_count": 22,
      "metadata": {
        "colab": {
          "base_uri": "https://localhost:8080/",
          "height": 404
        },
        "id": "w62y3AMmoIG1",
        "outputId": "2b67ce0c-8b34-4428-d014-ac4fe3214bc2"
      },
      "outputs": [
        {
          "output_type": "display_data",
          "data": {
            "text/plain": [
              "<Figure size 720x432 with 1 Axes>"
            ],
            "image/png": "[encoded data removed]"
          },
          "metadata": {
            "needs_background": "light"
          }
        }
      ],
      "source": [
        "df = df.fillna(0)\n",
        "flores = df.drop(['species'],axis=1) # elimina variables que no se utilizan\n",
        "plt.figure(figsize=(10, 6))\n",
        "sns.boxplot(data=flores)\n",
        "plt.title(\"Largo y ancho de los Pétalos y Sépalos\") # agregar titulo\n",
        "plt.xlabel('Medida') # nombre eje x\n",
        "plt.ylabel('Longitud en [cm]') # nombre eje y\n",
        "plt.show()"
      ]
    },
    {
      "cell_type": "markdown",
      "metadata": {
        "id": "Pe0AQRRuoIG2"
      },
      "source": [
        "3. Anteriormente se define un rango de valores válidos para los valores del largo y ancho de los petalos y sépalos. Agregue una columna denominada **label**  que identifique cuál de estos valores esta fuera del rango de valores válidos."
      ]
    },
    {
      "cell_type": "code",
      "execution_count": 23,
      "metadata": {
        "colab": {
          "base_uri": "https://localhost:8080/",
          "height": 424
        },
        "id": "B87jRUSOoIG2",
        "outputId": "a2de887b-523c-4598-ea8e-92d5afb1cf09"
      },
      "outputs": [
        {
          "output_type": "execute_result",
          "data": {
            "text/plain": [
              "     sepalLength  sepalWidth  petalLength  petalWidth    species  label\n",
              "0            4.4         3.2          1.3         3.0     setosa  False\n",
              "1            7.2         3.6          6.1         2.5  virginica  False\n",
              "2            6.3         3.3          6.0         2.5  virginica   True\n",
              "3            6.7         3.3          5.7         2.5  virginica   True\n",
              "4            6.3         3.4          5.6         2.4  virginica   True\n",
              "..           ...         ...          ...         ...        ...    ...\n",
              "145          5.3         3.0          1.1         0.1     setosa   True\n",
              "146          4.8         3.0          1.4         0.1     setosa   True\n",
              "147          4.9         3.1          1.5         0.1     setosa   True\n",
              "148          4.9         3.6          1.4         0.1     setosa   True\n",
              "149          5.2         4.1          1.5         0.1     setosa   True\n",
              "\n",
              "[150 rows x 6 columns]"
            ],
            "text/html": [
              "\n",
              "  <div id=\"df-312b3db1-5ee3-44e2-b32c-39cf08c62712\">\n",
              "    <div class=\"colab-df-container\">\n",
              "      <div>\n",
              "<style scoped>\n",
              "    .dataframe tbody tr th:only-of-type {\n",
              "        vertical-align: middle;\n",
              "    }\n",
              "\n",
              "    .dataframe tbody tr th {\n",
              "        vertical-align: top;\n",
              "    }\n",
              "\n",
              "    .dataframe thead th {\n",
              "        text-align: right;\n",
              "    }\n",
              "</style>\n",
              "<table border=\"1\" class=\"dataframe\">\n",
              "  <thead>\n",
              "    <tr style=\"text-align: right;\">\n",
              "      <th></th>\n",
              "      <th>sepalLength</th>\n",
              "      <th>sepalWidth</th>\n",
              "      <th>petalLength</th>\n",
              "      <th>petalWidth</th>\n",
              "      <th>species</th>\n",
              "      <th>label</th>\n",
              "    </tr>\n",
              "  </thead>\n",
              "  <tbody>\n",
              "    <tr>\n",
              "      <th>0</th>\n",
              "      <td>4.4</td>\n",
              "      <td>3.2</td>\n",
              "      <td>1.3</td>\n",
              "      <td>3.0</td>\n",
              "      <td>setosa</td>\n",
              "      <td>False</td>\n",
              "    </tr>\n",
              "    <tr>\n",
              "      <th>1</th>\n",
              "      <td>7.2</td>\n",
              "      <td>3.6</td>\n",
              "      <td>6.1</td>\n",
              "      <td>2.5</td>\n",
              "      <td>virginica</td>\n",
              "      <td>False</td>\n",
              "    </tr>\n",
              "    <tr>\n",
              "      <th>2</th>\n",
              "      <td>6.3</td>\n",
              "      <td>3.3</td>\n",
              "      <td>6.0</td>\n",
              "      <td>2.5</td>\n",
              "      <td>virginica</td>\n",
              "      <td>True</td>\n",
              "    </tr>\n",
              "    <tr>\n",
              "      <th>3</th>\n",
              "      <td>6.7</td>\n",
              "      <td>3.3</td>\n",
              "      <td>5.7</td>\n",
              "      <td>2.5</td>\n",
              "      <td>virginica</td>\n",
              "      <td>True</td>\n",
              "    </tr>\n",
              "    <tr>\n",
              "      <th>4</th>\n",
              "      <td>6.3</td>\n",
              "      <td>3.4</td>\n",
              "      <td>5.6</td>\n",
              "      <td>2.4</td>\n",
              "      <td>virginica</td>\n",
              "      <td>True</td>\n",
              "    </tr>\n",
              "    <tr>\n",
              "      <th>...</th>\n",
              "      <td>...</td>\n",
              "      <td>...</td>\n",
              "      <td>...</td>\n",
              "      <td>...</td>\n",
              "      <td>...</td>\n",
              "      <td>...</td>\n",
              "    </tr>\n",
              "    <tr>\n",
              "      <th>145</th>\n",
              "      <td>5.3</td>\n",
              "      <td>3.0</td>\n",
              "      <td>1.1</td>\n",
              "      <td>0.1</td>\n",
              "      <td>setosa</td>\n",
              "      <td>True</td>\n",
              "    </tr>\n",
              "    <tr>\n",
              "      <th>146</th>\n",
              "      <td>4.8</td>\n",
              "      <td>3.0</td>\n",
              "      <td>1.4</td>\n",
              "      <td>0.1</td>\n",
              "      <td>setosa</td>\n",
              "      <td>True</td>\n",
              "    </tr>\n",
              "    <tr>\n",
              "      <th>147</th>\n",
              "      <td>4.9</td>\n",
              "      <td>3.1</td>\n",
              "      <td>1.5</td>\n",
              "      <td>0.1</td>\n",
              "      <td>setosa</td>\n",
              "      <td>True</td>\n",
              "    </tr>\n",
              "    <tr>\n",
              "      <th>148</th>\n",
              "      <td>4.9</td>\n",
              "      <td>3.6</td>\n",
              "      <td>1.4</td>\n",
              "      <td>0.1</td>\n",
              "      <td>setosa</td>\n",
              "      <td>True</td>\n",
              "    </tr>\n",
              "    <tr>\n",
              "      <th>149</th>\n",
              "      <td>5.2</td>\n",
              "      <td>4.1</td>\n",
              "      <td>1.5</td>\n",
              "      <td>0.1</td>\n",
              "      <td>setosa</td>\n",
              "      <td>True</td>\n",
              "    </tr>\n",
              "  </tbody>\n",
              "</table>\n",
              "<p>150 rows × 6 columns</p>\n",
              "</div>\n",
              "      <button class=\"colab-df-convert\" onclick=\"convertToInteractive('df-312b3db1-5ee3-44e2-b32c-39cf08c62712')\"\n",
              "              title=\"Convert this dataframe to an interactive table.\"\n",
              "              style=\"display:none;\">\n",
              "        \n",
              "  <svg xmlns=\"http://www.w3.org/2000/svg\" height=\"24px\"viewBox=\"0 0 24 24\"\n",
              "       width=\"24px\">\n",
              "    <path d=\"M0 0h24v24H0V0z\" fill=\"none\"/>\n",
              "    <path d=\"M18.56 5.44l.94 2.06.94-2.06 2.06-.94-2.06-.94-.94-2.06-.94 2.06-2.06.94zm-11 1L8.5 8.5l.94-2.06 2.06-.94-2.06-.94L8.5 2.5l-.94 2.06-2.06.94zm10 10l.94 2.06.94-2.06 2.06-.94-2.06-.94-.94-2.06-.94 2.06-2.06.94z\"/><path d=\"M17.41 7.96l-1.37-1.37c-.4-.4-.92-.59-1.43-.59-.52 0-1.04.2-1.43.59L10.3 9.45l-7.72 7.72c-.78.78-.78 2.05 0 2.83L4 21.41c.39.39.9.59 1.41.59.51 0 1.02-.2 1.41-.59l7.78-7.78 2.81-2.81c.8-.78.8-2.07 0-2.86zM5.41 20L4 18.59l7.72-7.72 1.47 1.35L5.41 20z\"/>\n",
              "  </svg>\n",
              "      </button>\n",
              "      \n",
              "  <style>\n",
              "    .colab-df-container {\n",
              "      display:flex;\n",
              "      flex-wrap:wrap;\n",
              "      gap: 12px;\n",
              "    }\n",
              "\n",
              "    .colab-df-convert {\n",
              "      background-color: #E8F0FE;\n",
              "      border: none;\n",
              "      border-radius: 50%;\n",
              "      cursor: pointer;\n",
              "      display: none;\n",
              "      fill: #1967D2;\n",
              "      height: 32px;\n",
              "      padding: 0 0 0 0;\n",
              "      width: 32px;\n",
              "    }\n",
              "\n",
              "    .colab-df-convert:hover {\n",
              "      background-color: #E2EBFA;\n",
              "      box-shadow: 0px 1px 2px rgba(60, 64, 67, 0.3), 0px 1px 3px 1px rgba(60, 64, 67, 0.15);\n",
              "      fill: #174EA6;\n",
              "    }\n",
              "\n",
              "    [theme=dark] .colab-df-convert {\n",
              "      background-color: #3B4455;\n",
              "      fill: #D2E3FC;\n",
              "    }\n",
              "\n",
              "    [theme=dark] .colab-df-convert:hover {\n",
              "      background-color: #434B5C;\n",
              "      box-shadow: 0px 1px 3px 1px rgba(0, 0, 0, 0.15);\n",
              "      filter: drop-shadow(0px 1px 2px rgba(0, 0, 0, 0.3));\n",
              "      fill: #FFFFFF;\n",
              "    }\n",
              "  </style>\n",
              "\n",
              "      <script>\n",
              "        const buttonEl =\n",
              "          document.querySelector('#df-312b3db1-5ee3-44e2-b32c-39cf08c62712 button.colab-df-convert');\n",
              "        buttonEl.style.display =\n",
              "          google.colab.kernel.accessAllowed ? 'block' : 'none';\n",
              "\n",
              "        async function convertToInteractive(key) {\n",
              "          const element = document.querySelector('#df-312b3db1-5ee3-44e2-b32c-39cf08c62712');\n",
              "          const dataTable =\n",
              "            await google.colab.kernel.invokeFunction('convertToInteractive',\n",
              "                                                     [key], {});\n",
              "          if (!dataTable) return;\n",
              "\n",
              "          const docLinkHtml = 'Like what you see? Visit the ' +\n",
              "            '<a target=\"_blank\" href=https://colab.research.google.com/notebooks/data_table.ipynb>data table notebook</a>'\n",
              "            + ' to learn more about interactive tables.';\n",
              "          element.innerHTML = '';\n",
              "          dataTable['output_type'] = 'display_data';\n",
              "          await google.colab.output.renderOutput(dataTable, element);\n",
              "          const docLink = document.createElement('div');\n",
              "          docLink.innerHTML = docLinkHtml;\n",
              "          element.appendChild(docLink);\n",
              "        }\n",
              "      </script>\n",
              "    </div>\n",
              "  </div>\n",
              "  "
            ]
          },
          "metadata": {},
          "execution_count": 23
        }
      ],
      "source": [
        "# Se realiza un mask para asignar condiciones\n",
        "mask_sepalLength_inf = df['sepalLength']>=4.0\n",
        "mask_sepalLength_sup = df['sepalLength']<=7.0\n",
        "mask_sepalLength = mask_sepalLength_inf & mask_sepalLength_sup\n",
        "\n",
        "mask_sepalWidth_inf = df['sepalWidth']>=2.0\n",
        "mask_sepalWidth_sup = df['sepalWidth']<=4.5\n",
        "mask_sepalWidth = mask_sepalWidth_inf & mask_sepalWidth_sup\n",
        "\n",
        "mask_petalLength_inf = df['petalLength']>=1.0\n",
        "mask_petalLength_sup = df['petalLength']<=7.0\n",
        "mask_petalLength = mask_petalLength_inf & mask_petalLength_sup\n",
        "\n",
        "mask_petalWidth_inf = df['petalWidth']>=0.1\n",
        "mask_petalWidth_sup = df['petalWidth']<=2.5\n",
        "mask_petalWidth = mask_petalWidth_inf & mask_petalWidth_sup\n",
        "\n",
        "\n",
        "#Agregar columna\n",
        "df[\"label\"] = mask_sepalLength & mask_sepalWidth & mask_petalLength & mask_petalWidth\n",
        "df\n",
        "\n"
      ]
    },
    {
      "cell_type": "markdown",
      "metadata": {
        "id": "U_wtwiwOoIG2"
      },
      "source": [
        "4. Realice un gráfico de *sepalLength* vs *petalLength* y otro de *sepalWidth* vs *petalWidth* categorizados por la etiqueta **label**. Concluya sus resultados."
      ]
    },
    {
      "cell_type": "code",
      "execution_count": 58,
      "metadata": {
        "colab": {
          "base_uri": "https://localhost:8080/",
          "height": 736
        },
        "id": "FI0Jj9OtoIG2",
        "outputId": "76f30d95-62d2-4555-e6b6-c5961ab84849"
      },
      "outputs": [
        {
          "output_type": "display_data",
          "data": {
            "text/plain": [
              "<Figure size 720x360 with 1 Axes>"
            ],
            "image/png": "[encoded data removed]"
          },
          "metadata": {
            "needs_background": "light"
          }
        },
        {
          "output_type": "display_data",
          "data": {
            "text/plain": [
              "<Figure size 720x360 with 1 Axes>"
            ],
            "image/png": "[encoded data removed]"
          },
          "metadata": {
            "needs_background": "light"
          }
        },
        {
          "output_type": "execute_result",
          "data": {
            "text/plain": [
              "'Se observa en los gráficos que una gran cantidad de puntos son Falsos, es decir, no tienen las condiciones para cumplir con las longitudes mínimas y máximas para el ancho y largo del sépalo y pétalo de cada especie. Es necesario reevaluar si se obtuvo correctamente el nombre de la especie. Por otro lado de los gráficos se observa que el largo es mayor que el ancho, en general, para cualquier especie'"
            ],
            "application/vnd.google.colaboratory.intrinsic+json": {
              "type": "string"
            }
          },
          "metadata": {},
          "execution_count": 58
        }
      ],
      "source": [
        "grupos = df.groupby(['label'])\n",
        "condicion = []\n",
        "sl = [] # sepalLength\n",
        "pl = [] # petalLength\n",
        "sw = [] # sepalWidth\n",
        "pw = [] # petalWidth\n",
        "for vf,gp in grupos: # obtiene la información de los grupos\n",
        "  condicion.append(vf)\n",
        "  sl.append(gp['sepalLength'])\n",
        "  pl.append(gp['petalLength'])\n",
        "  sw.append(gp['sepalWidth'])\n",
        "  pw.append(gp['petalWidth'])\n",
        "\n",
        "# Gráficos \n",
        "\n",
        "fig = plt.figure(figsize=(10, 5)) \n",
        "plt.scatter(sl[0], pl[0],color=\"black\",linewidth=1)\n",
        "plt.scatter(sl[1], pl[1],color=\"red\",linewidth=1)\n",
        "plt.title(\"sepalLength vs petalLength\") # agregar titulo\n",
        "plt.xlabel('sepalLength [cm]') # nombre eje x\n",
        "plt.ylabel('petalLength [cm]') # nombre eje y\n",
        "plt.grid()\n",
        "plt.legend(condicion)\n",
        "plt.show()\n",
        "\n",
        "fig = plt.figure(figsize=(10, 5)) \n",
        "plt.scatter(sw[0], pw[0],color=\"black\",linewidth=1)\n",
        "plt.scatter(sw[1], pw[1],color=\"red\",linewidth=1)\n",
        "plt.title(\"sepalWidth vs petalWidth\") # agregar titulo\n",
        "plt.xlabel('sepalWidth [cm]') # nombre eje x\n",
        "plt.ylabel('petalWidth [cm]') # nombre eje y\n",
        "plt.grid()\n",
        "plt.legend(condicion)\n",
        "plt.show()\n",
        "\n",
        "\"Se observa en los gráficos que una gran cantidad de puntos son Falsos, es decir, no tienen las condiciones para cumplir con las longitudes mínimas y máximas para el ancho y largo del sépalo y pétalo de cada especie. Es necesario reevaluar si se obtuvo correctamente el nombre de la especie. Por otro lado de los gráficos se observa que el largo es mayor que el ancho, en general, para cualquier especie\""
      ]
    },
    {
      "cell_type": "markdown",
      "metadata": {
        "id": "nk5LFVOBoIG3"
      },
      "source": [
        "5. Filtre los datos válidos y realice un gráfico de *sepalLength* vs *petalLength* categorizados por la etiqueta **species**."
      ]
    },
    {
      "cell_type": "code",
      "execution_count": 51,
      "metadata": {
        "colab": {
          "base_uri": "https://localhost:8080/",
          "height": 421
        },
        "id": "_lu_D3u9oIG3",
        "outputId": "d04e099b-e56f-4736-e8a2-6538cb01cd9c"
      },
      "outputs": [
        {
          "output_type": "stream",
          "name": "stdout",
          "text": [
            "{'virginica': 'blue', 'versicolor': 'green', 'default': 'black', 'setosa': 'red'}\n"
          ]
        },
        {
          "output_type": "display_data",
          "data": {
            "text/plain": [
              "<Figure size 720x432 with 1 Axes>"
            ],
            "image/png": "[encoded data removed]"
          },
          "metadata": {
            "needs_background": "light"
          }
        }
      ],
      "source": [
        "# Supuesto: datos válidos -> label = True\n",
        "# Los datos ya se encuentran filtrados en el punto anterior\n",
        "\n",
        "flores = df[df['label'] == True] # filtra los datos válidos\n",
        "color_map = dict(zip(flores[\"species\"].unique(), \n",
        "                     [\"blue\", \"green\", \"black\",\"red\"]))\n",
        "print(color_map)\n",
        "plt.figure(figsize=(10, 6))\n",
        "\n",
        "for species, group in flores.groupby(\"species\"):\n",
        "  if species != \"default\":# este condicionante es para no graficar la especie \"default\"\n",
        "      plt.scatter(group[\"sepalLength\"], \n",
        "                  group[\"petalLength\"],\n",
        "                  color=color_map[species],\n",
        "                  alpha=0.3,\n",
        "                  edgecolor=None,\n",
        "                  label=species,\n",
        "                )\n",
        "plt.legend(frameon=True, title=\"species\")\n",
        "plt.title(\"sepalLength vs petalLength\") # agregar titulo\n",
        "plt.xlabel(\"petalLength\")\n",
        "plt.ylabel(\"sepalWidth\")\n",
        "plt.grid()\n",
        "plt.show()\n"
      ]
    }
  ],
  "metadata": {
    "kernelspec": {
      "display_name": "Python 3",
      "language": "python",
      "name": "python3"
    },
    "language_info": {
      "codemirror_mode": {
        "name": "ipython",
        "version": 3
      },
      "file_extension": ".py",
      "mimetype": "text/x-python",
      "name": "python",
      "nbconvert_exporter": "python",
      "pygments_lexer": "ipython3",
      "version": "3.8.10"
    },
    "colab": {
      "provenance": []
    }
  },
  "nbformat": 4,
  "nbformat_minor": 0
}