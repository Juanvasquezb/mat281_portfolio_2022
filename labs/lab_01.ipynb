{
  "cells": [
    {
      "cell_type": "markdown",
      "id": "e2696553",
      "metadata": {
        "id": "e2696553"
      },
      "source": [
        "<a href=\"https://colab.research.google.com/github/fralfaro/MAT281_2022/blob/main/labs/lab_01.ipynb\n",
        "\" target=\"_parent\"><img src=\"https://colab.research.google.com/assets/colab-badge.svg\" alt=\"Open In Colab\"/></a>\n",
        "\n",
        "\n",
        "# MAT281 - Laboratorio N°01\n"
      ]
    },
    {
      "cell_type": "markdown",
      "id": "a869ace0",
      "metadata": {
        "id": "a869ace0"
      },
      "source": [
        "## Problema 01\n",
        "\n",
        "En los siglos XVII y XVIII, James Gregory y Gottfried Leibniz descubrieron una serie infinita que sirve para calcular $\\pi$:\n",
        "\n",
        "$$\\displaystyle \\pi = 4 \\sum_{k=1}^{\\infty}\\dfrac{(-1)^{k+1}}{2k-1} = 4(1-\\dfrac{1}{3}+\\dfrac{1}{5}-\\dfrac{1}{7} + ...) $$\n",
        "\n",
        "Desarolle un programa para estimar el valor de $\\pi$ ocupando el método de Leibniz, donde la entrada del programa debe ser un número entero $n$ que indique cuántos términos de la suma se utilizará.\n",
        "\n",
        "\n",
        "* **Ejemplo**: \n",
        "    * *calcular_pi(3)* = 3.466666666666667\n",
        "    * *calcular_pi(1000)* = 3.140592653839794"
      ]
    },
    {
      "cell_type": "code",
      "execution_count": null,
      "id": "dd54e855",
      "metadata": {
        "id": "dd54e855"
      },
      "outputs": [],
      "source": [
        "# respuesta\n",
        "def calcular_pi(n):\n",
        "  suma = 0\n",
        "  for k in range(1,n+1):\n",
        "    suma = suma + ((-1)**(k+1))/(2*k-1)\n",
        "  return 4*suma\n",
        "\n"
      ]
    },
    {
      "cell_type": "code",
      "source": [
        "assert calcular_pi(3) == 3.466666666666667, \"No es correcto\"\n",
        "assert calcular_pi(1000) == 3.140592653839794, \"No es correcto\""
      ],
      "metadata": {
        "id": "UmTc0kXHx1Fi"
      },
      "id": "UmTc0kXHx1Fi",
      "execution_count": null,
      "outputs": []
    },
    {
      "cell_type": "markdown",
      "id": "c26be634",
      "metadata": {
        "id": "c26be634"
      },
      "source": [
        "## Problema 02\n",
        "\n",
        "Euler realizó varios aportes en relación a $e$, pero no fue hasta 1748 cuando publicó su **Introductio in analysin infinitorum** que dio un tratamiento definitivo a las ideas sobre $e$. Allí mostró que:\n",
        "\n",
        "\n",
        "En los siglos XVII y XVIII, James Gregory y Gottfried Leibniz descubrieron una serie infinita que sirve para calcular π:\n",
        "\n",
        "$$\\displaystyle e = \\sum_{k=0}^{\\infty}\\dfrac{1}{k!} = 1+\\dfrac{1}{2!}+\\dfrac{1}{3!}+\\dfrac{1}{4!} + ... $$\n",
        "\n",
        "Desarolle un programa para estimar el valor de $e$ ocupando el método de Euler, donde la entrada del programa debe ser un número entero $n$ que indique cuántos términos de la suma se utilizará. \n",
        "\n",
        "Para esto:\n",
        "\n",
        "* a) Defina la función `factorial`, donde la entrada sea un número natural  $n$ y la salida sea el factorial de dicho número.\n",
        "    * **Ejemplo**: *factorial(3)* =3, *factorial(5)* = 120\n",
        "    \n",
        "    \n",
        "* b) Ocupe la función `factorial` dentro de la función `calcular_e`.     \n",
        "    * **Ejemplo**: *calcular_e(3)* = 2.6666666666666665, *calcular_e(1000)* = 2.7182818284590455"
      ]
    },
    {
      "cell_type": "code",
      "execution_count": 5,
      "id": "6a5230ac",
      "metadata": {
        "id": "6a5230ac"
      },
      "outputs": [],
      "source": [
        "# respuesta\n",
        "def factorial(n):\n",
        "  if n == 0:\n",
        "    return 1\n",
        "  else: # calcular el factorial para un valor distinto de 1\n",
        "    producto = 1\n",
        "    for k in range(1,n+1):\n",
        "      producto = producto*k\n",
        "    return producto"
      ]
    },
    {
      "cell_type": "code",
      "source": [
        "assert factorial(3) == 6, \"Función errónea\"\n",
        "assert factorial(5) == 120, \"Función errónea\""
      ],
      "metadata": {
        "id": "Bsz7ugrccSEB"
      },
      "id": "Bsz7ugrccSEB",
      "execution_count": 7,
      "outputs": []
    },
    {
      "cell_type": "code",
      "source": [
        "def calcular_e(n):\n",
        "  suma = 0\n",
        "  for k in range(0,n+1):\n",
        "    suma = suma + 1/factorial(k)\n",
        "  return suma\n"
      ],
      "metadata": {
        "id": "YswixSZScxy7"
      },
      "id": "YswixSZScxy7",
      "execution_count": 10,
      "outputs": []
    },
    {
      "cell_type": "code",
      "source": [
        "assert calcular_e(3) == 2.6666666666666665, \"Función errónea\"\n",
        "assert calcular_e(1000) == 2.7182818284590455, \"Función errónea\""
      ],
      "metadata": {
        "id": "At4Sb-6adzPT"
      },
      "id": "At4Sb-6adzPT",
      "execution_count": 12,
      "outputs": []
    },
    {
      "cell_type": "markdown",
      "id": "9707be93",
      "metadata": {
        "id": "9707be93"
      },
      "source": [
        "## Problema 03\n",
        "\n",
        "Sea $\\sigma(n)$ definido como la suma de los divisores propios de $n$ (números menores que n que se dividen en $n$).\n",
        "\n",
        "Los [números amigos](https://en.wikipedia.org/wiki/Amicable_numbers) son  enteros positivos $n_1$ y $n_2$ tales que la suma de los divisores propios de uno es igual al otro número y viceversa, es decir, $\\sigma(n_1)=\\sigma(n_2)$ y $\\sigma(n_2)=\\sigma(n_1)$.\n",
        "\n",
        "\n",
        "Por ejemplo, los números 220 y 284 son números amigos.\n",
        "* los divisores propios de 220 son 1, 2, 4, 5, 10, 11, 20, 22, 44, 55 y 110; por lo tanto $\\sigma(220) = 284$. \n",
        "* los divisores propios de 284 son 1, 2, 4, 71 y 142; entonces $\\sigma(284) = 220$.\n",
        "\n",
        "\n",
        "Implemente una función llamada `amigos` cuyo input sean dos números naturales $n_1$ y $n_2$, cuyo output sea verifique si los números son amigos o no. \n",
        "\n",
        "Para esto:\n",
        "\n",
        "* a) Defina la función `divisores_propios`, donde la entrada sea un número natural $n$ y la salida sea una lista con los divisores propios de dicho número.\n",
        "    * **Ejemplo**: *divisores_propios(220)* = [1, 2, 4, 5, 10, 11, 20, 22, 44, 55 y 110], *divisores_propios(284)* = [1, 2, 4, 71 y 142]\n",
        "    \n",
        "    \n",
        "* b) Ocupe la función `divisores_propios` dentro de la función `amigos`.\n",
        "\n",
        "    * **Ejemplo**: *amigos(220,284)* = True, *amigos(6,5)* = False"
      ]
    },
    {
      "cell_type": "code",
      "execution_count": 13,
      "id": "e695ea21",
      "metadata": {
        "id": "e695ea21"
      },
      "outputs": [],
      "source": [
        "# respuesta\n",
        "def divisores_propios(n):\n",
        "  valores = []\n",
        "  for i in range(1,n):\n",
        "    if n % i == 0: # Calcula el resto de la división\n",
        "      valores.append(i)\n",
        "  return valores"
      ]
    },
    {
      "cell_type": "code",
      "source": [
        "assert divisores_propios(220) == [1,2,4,5,10,11,20,22,44,55,110]\n",
        "assert divisores_propios(284) == [1,2,4,71,142]"
      ],
      "metadata": {
        "id": "SpYbotHJhExF"
      },
      "id": "SpYbotHJhExF",
      "execution_count": 16,
      "outputs": []
    },
    {
      "cell_type": "code",
      "source": [
        "def amigos(a,b):\n",
        "  div_a = divisores_propios(a)\n",
        "  div_b = divisores_propios(b)\n",
        "  if sum(div_a) == b and sum(div_b) == a:\n",
        "    return True\n",
        "  else:\n",
        "    return False"
      ],
      "metadata": {
        "id": "-KX_kVSghbwk"
      },
      "id": "-KX_kVSghbwk",
      "execution_count": 26,
      "outputs": []
    },
    {
      "cell_type": "code",
      "source": [
        "assert amigos(220,284) == True, \"Función errónea\"\n",
        "assert amigos(6,5) == False, \"Función errónea\""
      ],
      "metadata": {
        "id": "mpZA3j7_h5Bt"
      },
      "id": "mpZA3j7_h5Bt",
      "execution_count": 30,
      "outputs": []
    },
    {
      "cell_type": "markdown",
      "id": "cf93a039",
      "metadata": {
        "id": "cf93a039"
      },
      "source": [
        "## Problema 04\n",
        "\n",
        "La [conjetura de Collatz](https://en.wikipedia.org/wiki/Collatz_conjecture), conocida también como conjetura $3n+1$ o conjetura de Ulam (entre otros nombres), fue enunciada por el matemático Lothar Collatz en 1937, y a la fecha no se ha resuelto.\n",
        "\n",
        "Sea la siguiente operación, aplicable a cualquier número entero positivo:\n",
        "* Si el número es par, se divide entre 2.\n",
        "* Si el número es impar, se multiplica por 3 y se suma 1.\n",
        "\n",
        "La conjetura dice que siempre alcanzaremos el 1 (y por tanto el ciclo 4, 2, 1) para cualquier número con el que comencemos. \n",
        "\n",
        "Implemente una función llamada `collatz` cuyo input sea un número natural positivo $N$ y como output devulva la secuencia de números hasta llegar a 1.\n",
        "\n",
        "* **Ejemplo**: *collatz(9)* = [9, 28, 14, 7, 22, 11, 34, 17, 52, 26, 13, 40, 20, 10, 5, 16, 8, 4, 2, 1]"
      ]
    },
    {
      "cell_type": "code",
      "execution_count": 43,
      "id": "aef80dac",
      "metadata": {
        "id": "aef80dac"
      },
      "outputs": [],
      "source": [
        "# respuesta\n",
        "def collatz(n):\n",
        "  vector = [n]\n",
        "  while n != 1:\n",
        "    if n % 2 == 0:\n",
        "      n = n/2\n",
        "      vector.append(int(n))\n",
        "    else:\n",
        "      n = 3*n+1\n",
        "      vector.append(int(n))\n",
        "      \n",
        "  return vector\n",
        "   "
      ]
    },
    {
      "cell_type": "code",
      "source": [
        "assert collatz(9) == [9,28,14,7,22,11,34,17,52,26,13,40,20,10,5,16,8,4,2,1], \"Función errónea\""
      ],
      "metadata": {
        "id": "Xt5VvcJQk5r6"
      },
      "id": "Xt5VvcJQk5r6",
      "execution_count": 47,
      "outputs": []
    },
    {
      "cell_type": "markdown",
      "id": "d15af4eb",
      "metadata": {
        "id": "d15af4eb"
      },
      "source": [
        "## Problema 05\n",
        "La [conjetura de Goldbach](https://en.wikipedia.org/wiki/Goldbach%27s_conjecture) es uno de los problemas abiertos más antiguos en matemáticas. Concretamente, G.H. Hardy, en 1921, en su famoso discurso pronunciado en la Sociedad Matemática de Copenhague, comentó que probablemente la conjetura de Goldbach no es solo uno de los problemas no resueltos más difíciles de la teoría de números, sino de todas las matemáticas. Su enunciado es el siguiente:\n",
        "\n",
        "> Todo número par mayor que 2 puede escribirse como suma de dos números primos - Christian Goldbach (1742)\n",
        "\n",
        "Implemente una función llamada `goldbach` cuyo input sea un número natural positivo $n$ y como output devuelva la suma de dos primos ($n_1$ y $n_2$) tal que: $n_1+n_2=n$. \n",
        "\n",
        "Para esto:\n",
        "\n",
        "* a) Defina la función `es_primo`, donde la entrada sea un número natural $n$ y la salida sea **True** si el número es primo y **False** en otro caso.\n",
        "    * **Ejemplo**: *es_primo(3)* = True, *es_primo(4)* = False\n",
        "    \n",
        "    \n",
        "* b)  Defina la función `lista_de_primos`, donde la entrada sea un número natural par $n$ mayor que dos y la salida sea una lista con todos los número primos entre 2 y $n$.\n",
        "    * **Ejemplo**: *lista_de_primos(4)* = [2,3], *lista_de_primos(6)* = [2,3,5], *lista_de_primos(8)* = [2,3,5,7]\n",
        "\n",
        "\n",
        "* c) Ocupe la función `lista_de_primos` dentro de la función `goldbash`.\n",
        " * **Ejemplo**: goldbash(4) = (2,2), goldbash(6) = (3,3) , goldbash(8) = (3,5)"
      ]
    },
    {
      "cell_type": "code",
      "execution_count": 48,
      "id": "d47d37c6",
      "metadata": {
        "id": "d47d37c6"
      },
      "outputs": [],
      "source": [
        "# respuesta\n",
        "def es_primo(n):\n",
        "  for i in range(1,n):\n",
        "    if i != 1:\n",
        "      if n % i == 0:\n",
        "        return False\n",
        "    else:\n",
        "        return False\n",
        "\n",
        "  return True"
      ]
    },
    {
      "cell_type": "code",
      "source": [
        "assert es_primo(3) == True, \"Función errónea\"\n",
        "assert es_primo(4) == False, \"Función errónea\""
      ],
      "metadata": {
        "id": "tucJIGnJs330"
      },
      "id": "tucJIGnJs330",
      "execution_count": 51,
      "outputs": []
    },
    {
      "cell_type": "code",
      "source": [
        "def lista_de_primos(n):\n",
        "  lista = []\n",
        "  if n>2 and n%2==0: \n",
        "    for i in range(2,n):\n",
        "      if es_primo(i) == True:\n",
        "        lista.append(i)\n",
        "    return lista\n",
        "  else:\n",
        "    return \"Debe ingresar un número par mayor a 2\" "
      ],
      "metadata": {
        "id": "w_f4y-x4tF3V"
      },
      "id": "w_f4y-x4tF3V",
      "execution_count": 54,
      "outputs": []
    },
    {
      "cell_type": "code",
      "source": [
        "assert lista_de_primos(4) == [2,3], \"Función errónea\"\n",
        "assert lista_de_primos(6) == [2,3,5], \"Función errónea\"\n",
        "assert lista_de_primos(8) == [2,3,5,7], \"Función errónea\""
      ],
      "metadata": {
        "id": "ukQrrP_dvWpM"
      },
      "id": "ukQrrP_dvWpM",
      "execution_count": 59,
      "outputs": []
    },
    {
      "cell_type": "code",
      "source": [
        "def goldbash(n):\n",
        "  if n>2 and n%2==0: # Verifica si el número ingresado es par\n",
        "    num_primos = lista_de_primos(n)\n",
        "    for i in num_primos:\n",
        "      for k in num_primos: # recorre dos veces la lista de números primos\n",
        "        if i+k==n: # verifica si los dos números primos sumados dan n\n",
        "          return (i,k)\n",
        "  else:\n",
        "    \"Debe ingresar un número par mayor a 2\""
      ],
      "metadata": {
        "id": "Y94ohoFHvwaJ"
      },
      "id": "Y94ohoFHvwaJ",
      "execution_count": 60,
      "outputs": []
    },
    {
      "cell_type": "code",
      "source": [
        "assert goldbash(4) == (2,2), \"Función errónea\"\n",
        "assert goldbash(6) == (3,3), \"Función errónea\"\n",
        "assert goldbash(8) == (3,5), \"Función errónea\""
      ],
      "metadata": {
        "id": "euov1znOwsb4"
      },
      "id": "euov1znOwsb4",
      "execution_count": 65,
      "outputs": []
    }
  ],
  "metadata": {
    "kernelspec": {
      "display_name": "Python 3 (ipykernel)",
      "language": "python",
      "name": "python3"
    },
    "language_info": {
      "codemirror_mode": {
        "name": "ipython",
        "version": 3
      },
      "file_extension": ".py",
      "mimetype": "text/x-python",
      "name": "python",
      "nbconvert_exporter": "python",
      "pygments_lexer": "ipython3",
      "version": "3.8.8"
    },
    "colab": {
      "provenance": [],
      "name": "lab_01.ipynb",
      "collapsed_sections": []
    }
  },
  "nbformat": 4,
  "nbformat_minor": 5
}